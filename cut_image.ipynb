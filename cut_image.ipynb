{
 "cells": [
  {
   "cell_type": "code",
   "execution_count": 3,
   "metadata": {},
   "outputs": [
    {
     "name": "stdout",
     "output_type": "stream",
     "text": [
      "Collecting opencv-python\n",
      "  Using cached https://files.pythonhosted.org/packages/6e/8b/c8887d5cfcb5b6d6193da48defe365d5c9522d47fdb96cbc8cdf3e1528b8/opencv_python-4.5.2.52-cp37-cp37m-win_amd64.whl\n",
      "Requirement already satisfied: numpy>=1.14.5 in e:\\anaconda\\lib\\site-packages (from opencv-python) (1.16.5)\n",
      "Installing collected packages: opencv-python\n",
      "Successfully installed opencv-python-4.5.2.52\n"
     ]
    }
   ],
   "source": [
    "!pip install opencv-python"
   ]
  },
  {
   "cell_type": "code",
   "execution_count": 1,
   "metadata": {
    "scrolled": true
   },
   "outputs": [
    {
     "name": "stdout",
     "output_type": "stream",
     "text": [
      "(1852, 3312, 3)\n",
      "0 0\n",
      "0 368\n",
      "0 736\n",
      "0 1104\n",
      "0 1472\n",
      "0 1840\n",
      "0 2208\n",
      "0 2576\n",
      "0 2944\n",
      "370 0\n",
      "370 368\n",
      "370 736\n",
      "370 1104\n",
      "370 1472\n",
      "370 1840\n",
      "370 2208\n",
      "370 2576\n",
      "370 2944\n",
      "740 0\n",
      "740 368\n",
      "740 736\n",
      "740 1104\n",
      "740 1472\n",
      "740 1840\n",
      "740 2208\n",
      "740 2576\n",
      "740 2944\n",
      "1110 0\n",
      "1110 368\n",
      "1110 736\n",
      "1110 1104\n",
      "1110 1472\n",
      "1110 1840\n",
      "1110 2208\n",
      "1110 2576\n",
      "1110 2944\n",
      "1480 0\n",
      "1480 368\n",
      "1480 736\n",
      "1480 1104\n",
      "1480 1472\n",
      "1480 1840\n",
      "1480 2208\n",
      "1480 2576\n",
      "1480 2944\n",
      "1850 0\n",
      "1850 368\n",
      "1850 736\n",
      "1850 1104\n",
      "1850 1472\n",
      "1850 1840\n",
      "1850 2208\n",
      "1850 2576\n",
      "1850 2944\n"
     ]
    }
   ],
   "source": [
    "import cv2.cv2 as cv \n",
    "from PIL import Image\n",
    "\n",
    "# adjust pixel\n",
    "def produceImage(file_in, width, height, file_out):\n",
    "    image = Image.open(file_in)\n",
    "    resized_image = image.resize((width, height), Image.ANTIALIAS)\n",
    "    resized_image.save(file_out)\n",
    "\n",
    "# Cut image into 5*9 small png     \n",
    "def cutImage(file_in):\n",
    "    img = cv.imread(file_in)\n",
    "    print(img.shape)\n",
    "\n",
    "    # cut picture into 9*5 small png file\n",
    "    seq = 1\n",
    "    for height in range(0,img.shape[0],int(img.shape[0]/5)):\n",
    "\n",
    "        num = 1                \n",
    "        for width in range(0,img.shape[1],int(img.shape[1]/9)):\n",
    "            print(height,width)\n",
    "            cropped = img[height:height+int(img.shape[0]/5),width:width+int(img.shape[1]/9)] \n",
    "            file_nm = \"./pic/\"+str(num)+\"-\"+str(seq)+\"-\"+\"0139\"+\".png\"\n",
    "            cv.imwrite(file_nm, cropped)\n",
    "            produceImage(file_nm,50,50,file_nm) #set png to 50* 50\n",
    "            num = num + 1\n",
    "        seq = seq + 1\n",
    "         \n",
    "cutImage(\"./9numbers_format.jpg\")\n"
   ]
  }
 ],
 "metadata": {
  "kernelspec": {
   "display_name": "Python 3",
   "language": "python",
   "name": "python3"
  },
  "language_info": {
   "codemirror_mode": {
    "name": "ipython",
    "version": 3
   },
   "file_extension": ".py",
   "mimetype": "text/x-python",
   "name": "python",
   "nbconvert_exporter": "python",
   "pygments_lexer": "ipython3",
   "version": "3.7.4"
  }
 },
 "nbformat": 4,
 "nbformat_minor": 2
}
